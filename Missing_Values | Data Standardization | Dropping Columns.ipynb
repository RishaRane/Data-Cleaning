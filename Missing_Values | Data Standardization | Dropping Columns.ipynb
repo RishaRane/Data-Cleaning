{
 "cells": [
  {
   "cell_type": "markdown",
   "id": "53a0b20e",
   "metadata": {},
   "source": [
    "# 1. HANDLING MISSING VALUES"
   ]
  },
  {
   "cell_type": "code",
   "execution_count": 1,
   "id": "0ca9766f",
   "metadata": {},
   "outputs": [],
   "source": [
    "import pandas as pd"
   ]
  },
  {
   "cell_type": "code",
   "execution_count": 2,
   "id": "3c04f888",
   "metadata": {},
   "outputs": [],
   "source": [
    "emp_df = pd.read_csv('/Users/risharane/Downloads/employee_1.csv')"
   ]
  },
  {
   "cell_type": "code",
   "execution_count": 3,
   "id": "ca9a33ac",
   "metadata": {},
   "outputs": [
    {
     "data": {
      "text/plain": [
       "(10, 2)"
      ]
     },
     "execution_count": 3,
     "metadata": {},
     "output_type": "execute_result"
    }
   ],
   "source": [
    "emp_df.shape"
   ]
  },
  {
   "cell_type": "code",
   "execution_count": 4,
   "id": "48905b31",
   "metadata": {},
   "outputs": [
    {
     "data": {
      "text/html": [
       "<div>\n",
       "<style scoped>\n",
       "    .dataframe tbody tr th:only-of-type {\n",
       "        vertical-align: middle;\n",
       "    }\n",
       "\n",
       "    .dataframe tbody tr th {\n",
       "        vertical-align: top;\n",
       "    }\n",
       "\n",
       "    .dataframe thead th {\n",
       "        text-align: right;\n",
       "    }\n",
       "</style>\n",
       "<table border=\"1\" class=\"dataframe\">\n",
       "  <thead>\n",
       "    <tr style=\"text-align: right;\">\n",
       "      <th></th>\n",
       "      <th>NAME</th>\n",
       "      <th>AGE</th>\n",
       "    </tr>\n",
       "  </thead>\n",
       "  <tbody>\n",
       "    <tr>\n",
       "      <th>0</th>\n",
       "      <td>Tom</td>\n",
       "      <td>21.0</td>\n",
       "    </tr>\n",
       "    <tr>\n",
       "      <th>1</th>\n",
       "      <td>Alice</td>\n",
       "      <td>27.0</td>\n",
       "    </tr>\n",
       "    <tr>\n",
       "      <th>2</th>\n",
       "      <td>Joseph</td>\n",
       "      <td>24.0</td>\n",
       "    </tr>\n",
       "    <tr>\n",
       "      <th>3</th>\n",
       "      <td>NaN</td>\n",
       "      <td>29.0</td>\n",
       "    </tr>\n",
       "    <tr>\n",
       "      <th>4</th>\n",
       "      <td>David</td>\n",
       "      <td>NaN</td>\n",
       "    </tr>\n",
       "  </tbody>\n",
       "</table>\n",
       "</div>"
      ],
      "text/plain": [
       "     NAME   AGE\n",
       "0     Tom  21.0\n",
       "1   Alice  27.0\n",
       "2  Joseph  24.0\n",
       "3     NaN  29.0\n",
       "4   David   NaN"
      ]
     },
     "execution_count": 4,
     "metadata": {},
     "output_type": "execute_result"
    }
   ],
   "source": [
    "emp_df.head()"
   ]
  },
  {
   "cell_type": "code",
   "execution_count": 5,
   "id": "8e60de59",
   "metadata": {},
   "outputs": [
    {
     "data": {
      "text/plain": [
       "NAME    2\n",
       "AGE     2\n",
       "dtype: int64"
      ]
     },
     "execution_count": 5,
     "metadata": {},
     "output_type": "execute_result"
    }
   ],
   "source": [
    "# CHECKING NULL VALUES\n",
    "emp_df.isna().sum()"
   ]
  },
  {
   "cell_type": "markdown",
   "id": "079772c2",
   "metadata": {},
   "source": [
    "### 1.1 HANDLING MISSING STRING VALUES"
   ]
  },
  {
   "cell_type": "markdown",
   "id": "a4be2989",
   "metadata": {},
   "source": [
    "**METHOD 1 : Fillling Missing Values with word 'missing'**"
   ]
  },
  {
   "cell_type": "code",
   "execution_count": 7,
   "id": "f62dc616",
   "metadata": {},
   "outputs": [
    {
     "data": {
      "text/plain": [
       "NAME    2\n",
       "AGE     2\n",
       "dtype: int64"
      ]
     },
     "execution_count": 7,
     "metadata": {},
     "output_type": "execute_result"
    }
   ],
   "source": [
    "emp_df.isna().sum()"
   ]
  },
  {
   "cell_type": "code",
   "execution_count": 8,
   "id": "92a741f4",
   "metadata": {},
   "outputs": [],
   "source": [
    "emp_df['NAME'] = emp_df['NAME'].fillna('missing')"
   ]
  },
  {
   "cell_type": "code",
   "execution_count": 9,
   "id": "0ff1ba26",
   "metadata": {},
   "outputs": [
    {
     "data": {
      "text/plain": [
       "NAME    0\n",
       "AGE     2\n",
       "dtype: int64"
      ]
     },
     "execution_count": 9,
     "metadata": {},
     "output_type": "execute_result"
    }
   ],
   "source": [
    "# CHECKING NULL VALUES\n",
    "emp_df.isna().sum()"
   ]
  },
  {
   "cell_type": "markdown",
   "id": "03882e6b",
   "metadata": {},
   "source": [
    "**METHOD 2 : Dropping Rows containing Missing Values from NAME column**"
   ]
  },
  {
   "cell_type": "code",
   "execution_count": 16,
   "id": "4fdf518e",
   "metadata": {},
   "outputs": [],
   "source": [
    "emp_df = pd.read_csv('/Users/risharane/Downloads/employee_1.csv')"
   ]
  },
  {
   "cell_type": "code",
   "execution_count": 13,
   "id": "de40c9ed",
   "metadata": {},
   "outputs": [
    {
     "data": {
      "text/plain": [
       "NAME    2\n",
       "AGE     2\n",
       "dtype: int64"
      ]
     },
     "execution_count": 13,
     "metadata": {},
     "output_type": "execute_result"
    }
   ],
   "source": [
    "emp_df.isna().sum()"
   ]
  },
  {
   "cell_type": "code",
   "execution_count": 14,
   "id": "201531fb",
   "metadata": {},
   "outputs": [],
   "source": [
    "emp_df.dropna(inplace = True)"
   ]
  },
  {
   "cell_type": "code",
   "execution_count": 15,
   "id": "049a3d86",
   "metadata": {},
   "outputs": [
    {
     "data": {
      "text/plain": [
       "NAME    0\n",
       "AGE     0\n",
       "dtype: int64"
      ]
     },
     "execution_count": 15,
     "metadata": {},
     "output_type": "execute_result"
    }
   ],
   "source": [
    "emp_df.isna().sum()"
   ]
  },
  {
   "cell_type": "markdown",
   "id": "b9790f9e",
   "metadata": {},
   "source": [
    "### 1.2  HANDLING MISSING NUMERIC VALUES"
   ]
  },
  {
   "cell_type": "markdown",
   "id": "cf3a0b03",
   "metadata": {},
   "source": [
    "**METHOD 1 : Fillling Missing Values with word Mean/Median/Standard Deviation of that column'**"
   ]
  },
  {
   "cell_type": "code",
   "execution_count": 17,
   "id": "8abc235f",
   "metadata": {},
   "outputs": [],
   "source": [
    "df = pd.read_csv('/Users/risharane/Downloads/employee_1.csv')"
   ]
  },
  {
   "cell_type": "code",
   "execution_count": 18,
   "id": "c6bfbf87",
   "metadata": {},
   "outputs": [
    {
     "data": {
      "text/plain": [
       "NAME    2\n",
       "AGE     2\n",
       "dtype: int64"
      ]
     },
     "execution_count": 18,
     "metadata": {},
     "output_type": "execute_result"
    }
   ],
   "source": [
    "df.isna().sum()"
   ]
  },
  {
   "cell_type": "markdown",
   "id": "07048767",
   "metadata": {},
   "source": [
    "ON THE PLACE OF MEAN IT CAN ALSO TAKE MEDIAN, STANDARD DEVIATION, MAXIMUM, MINIMUM OF THE COLUMN"
   ]
  },
  {
   "cell_type": "code",
   "execution_count": 19,
   "id": "9079821c",
   "metadata": {},
   "outputs": [],
   "source": [
    "df['AGE'] = df['AGE'].fillna(df['AGE'].mean())"
   ]
  },
  {
   "cell_type": "code",
   "execution_count": 21,
   "id": "b4c88089",
   "metadata": {},
   "outputs": [
    {
     "data": {
      "text/plain": [
       "NAME    2\n",
       "AGE     0\n",
       "dtype: int64"
      ]
     },
     "execution_count": 21,
     "metadata": {},
     "output_type": "execute_result"
    }
   ],
   "source": [
    "df.isna().sum()"
   ]
  },
  {
   "cell_type": "markdown",
   "id": "a8d6f1da",
   "metadata": {},
   "source": [
    "**METHOD 2 : Dropping Rows containing Missing Values from AGE column**"
   ]
  },
  {
   "cell_type": "code",
   "execution_count": 22,
   "id": "a6935bf2",
   "metadata": {},
   "outputs": [],
   "source": [
    "df = pd.read_csv('/Users/risharane/Downloads/employee_1.csv')"
   ]
  },
  {
   "cell_type": "code",
   "execution_count": 23,
   "id": "64f8837d",
   "metadata": {},
   "outputs": [
    {
     "data": {
      "text/plain": [
       "NAME    2\n",
       "AGE     2\n",
       "dtype: int64"
      ]
     },
     "execution_count": 23,
     "metadata": {},
     "output_type": "execute_result"
    }
   ],
   "source": [
    "df.isna().sum()"
   ]
  },
  {
   "cell_type": "code",
   "execution_count": 24,
   "id": "495f6cdb",
   "metadata": {},
   "outputs": [],
   "source": [
    "df.dropna(inplace = True)"
   ]
  },
  {
   "cell_type": "code",
   "execution_count": 25,
   "id": "a170d081",
   "metadata": {},
   "outputs": [
    {
     "data": {
      "text/plain": [
       "NAME    0\n",
       "AGE     0\n",
       "dtype: int64"
      ]
     },
     "execution_count": 25,
     "metadata": {},
     "output_type": "execute_result"
    }
   ],
   "source": [
    "df.isna().sum()"
   ]
  },
  {
   "cell_type": "markdown",
   "id": "a054521c",
   "metadata": {},
   "source": [
    "**METHOD 3 : Using IMPUTATION Module**"
   ]
  },
  {
   "cell_type": "code",
   "execution_count": 26,
   "id": "073533b8",
   "metadata": {},
   "outputs": [],
   "source": [
    "df = pd.read_csv('/Users/risharane/Downloads/employee_1.csv')"
   ]
  },
  {
   "cell_type": "code",
   "execution_count": 27,
   "id": "4d1a9391",
   "metadata": {},
   "outputs": [
    {
     "data": {
      "text/plain": [
       "NAME    2\n",
       "AGE     2\n",
       "dtype: int64"
      ]
     },
     "execution_count": 27,
     "metadata": {},
     "output_type": "execute_result"
    }
   ],
   "source": [
    "df.isna().sum()"
   ]
  },
  {
   "cell_type": "code",
   "execution_count": 30,
   "id": "3478bb16",
   "metadata": {},
   "outputs": [],
   "source": [
    "from sklearn.impute import SimpleImputer\n",
    "imputer = SimpleImputer(strategy='mean')\n",
    "df['AGE'] = imputer.fit_transform(df[['AGE']])"
   ]
  },
  {
   "cell_type": "code",
   "execution_count": 31,
   "id": "259c184f",
   "metadata": {},
   "outputs": [
    {
     "data": {
      "text/plain": [
       "NAME    2\n",
       "AGE     0\n",
       "dtype: int64"
      ]
     },
     "execution_count": 31,
     "metadata": {},
     "output_type": "execute_result"
    }
   ],
   "source": [
    "df.isna().sum()"
   ]
  },
  {
   "cell_type": "markdown",
   "id": "53a19670",
   "metadata": {},
   "source": [
    "# 2.  DATA STANDARDIZATION"
   ]
  },
  {
   "cell_type": "code",
   "execution_count": 32,
   "id": "55f4e163",
   "metadata": {},
   "outputs": [],
   "source": [
    "# MANUALLY CREATING DATAFRAME\n",
    "\n",
    "df1 = pd.DataFrame({\n",
    "    'name' : ['Tom', 'David', 'Novak', 'Pauly'],\n",
    "    'phone_no' : [123456789, '(123)-456-789', '123-456-789', 536678898],\n",
    "    'email':['tom@gmail.com', 'david2_4@gmail.com', '21345.dypit@dypvp.edu.in','paul111@gmail.com'],\n",
    "    'complaint':['I have issue with my order #417890', 'I have a problem with my order number 578390', 'My order 738923 not received', 'Order not received with number 249743']\n",
    "})"
   ]
  },
  {
   "cell_type": "code",
   "execution_count": 33,
   "id": "8db2d873",
   "metadata": {},
   "outputs": [
    {
     "data": {
      "text/html": [
       "<div>\n",
       "<style scoped>\n",
       "    .dataframe tbody tr th:only-of-type {\n",
       "        vertical-align: middle;\n",
       "    }\n",
       "\n",
       "    .dataframe tbody tr th {\n",
       "        vertical-align: top;\n",
       "    }\n",
       "\n",
       "    .dataframe thead th {\n",
       "        text-align: right;\n",
       "    }\n",
       "</style>\n",
       "<table border=\"1\" class=\"dataframe\">\n",
       "  <thead>\n",
       "    <tr style=\"text-align: right;\">\n",
       "      <th></th>\n",
       "      <th>name</th>\n",
       "      <th>phone_no</th>\n",
       "      <th>email</th>\n",
       "      <th>complaint</th>\n",
       "    </tr>\n",
       "  </thead>\n",
       "  <tbody>\n",
       "    <tr>\n",
       "      <th>0</th>\n",
       "      <td>Tom</td>\n",
       "      <td>123456789</td>\n",
       "      <td>tom@gmail.com</td>\n",
       "      <td>I have issue with my order #417890</td>\n",
       "    </tr>\n",
       "    <tr>\n",
       "      <th>1</th>\n",
       "      <td>David</td>\n",
       "      <td>(123)-456-789</td>\n",
       "      <td>david2_4@gmail.com</td>\n",
       "      <td>I have a problem with my order number 578390</td>\n",
       "    </tr>\n",
       "    <tr>\n",
       "      <th>2</th>\n",
       "      <td>Novak</td>\n",
       "      <td>123-456-789</td>\n",
       "      <td>21345.dypit@dypvp.edu.in</td>\n",
       "      <td>My order 738923 not received</td>\n",
       "    </tr>\n",
       "    <tr>\n",
       "      <th>3</th>\n",
       "      <td>Pauly</td>\n",
       "      <td>536678898</td>\n",
       "      <td>paul111@gmail.com</td>\n",
       "      <td>Order not received with number 249743</td>\n",
       "    </tr>\n",
       "  </tbody>\n",
       "</table>\n",
       "</div>"
      ],
      "text/plain": [
       "    name       phone_no                     email  \\\n",
       "0    Tom      123456789             tom@gmail.com   \n",
       "1  David  (123)-456-789        david2_4@gmail.com   \n",
       "2  Novak    123-456-789  21345.dypit@dypvp.edu.in   \n",
       "3  Pauly      536678898         paul111@gmail.com   \n",
       "\n",
       "                                      complaint  \n",
       "0            I have issue with my order #417890  \n",
       "1  I have a problem with my order number 578390  \n",
       "2                  My order 738923 not received  \n",
       "3         Order not received with number 249743  "
      ]
     },
     "execution_count": 33,
     "metadata": {},
     "output_type": "execute_result"
    }
   ],
   "source": [
    "df1.head()"
   ]
  },
  {
   "cell_type": "markdown",
   "id": "fd4afa43",
   "metadata": {},
   "source": [
    "### 2.1 Standardizing phone_no column"
   ]
  },
  {
   "cell_type": "code",
   "execution_count": 34,
   "id": "d97d0b24",
   "metadata": {},
   "outputs": [],
   "source": [
    "import re"
   ]
  },
  {
   "cell_type": "code",
   "execution_count": 43,
   "id": "071a05db",
   "metadata": {},
   "outputs": [],
   "source": [
    "def standardize_phoneno(text):\n",
    "    return re.sub(r'\\D', '',text)"
   ]
  },
  {
   "cell_type": "code",
   "execution_count": 44,
   "id": "7014d86d",
   "metadata": {},
   "outputs": [],
   "source": [
    "df1['phone_no'] = df1['phone_no'].apply(standardize_phoneno)"
   ]
  },
  {
   "cell_type": "code",
   "execution_count": 50,
   "id": "6d9991db",
   "metadata": {},
   "outputs": [
    {
     "data": {
      "text/html": [
       "<div>\n",
       "<style scoped>\n",
       "    .dataframe tbody tr th:only-of-type {\n",
       "        vertical-align: middle;\n",
       "    }\n",
       "\n",
       "    .dataframe tbody tr th {\n",
       "        vertical-align: top;\n",
       "    }\n",
       "\n",
       "    .dataframe thead th {\n",
       "        text-align: right;\n",
       "    }\n",
       "</style>\n",
       "<table border=\"1\" class=\"dataframe\">\n",
       "  <thead>\n",
       "    <tr style=\"text-align: right;\">\n",
       "      <th></th>\n",
       "      <th>name</th>\n",
       "      <th>phone_no</th>\n",
       "      <th>email</th>\n",
       "      <th>complaint</th>\n",
       "    </tr>\n",
       "  </thead>\n",
       "  <tbody>\n",
       "    <tr>\n",
       "      <th>0</th>\n",
       "      <td>Tom</td>\n",
       "      <td>123456789</td>\n",
       "      <td>tom@gmail.com</td>\n",
       "      <td>I have issue with my order #417890</td>\n",
       "    </tr>\n",
       "    <tr>\n",
       "      <th>1</th>\n",
       "      <td>David</td>\n",
       "      <td>123456789</td>\n",
       "      <td>david2_4@gmail.com</td>\n",
       "      <td>I have a problem with my order number 578390</td>\n",
       "    </tr>\n",
       "    <tr>\n",
       "      <th>2</th>\n",
       "      <td>Novak</td>\n",
       "      <td>123456789</td>\n",
       "      <td>21345.dypit@dypvp.edu.in</td>\n",
       "      <td>My order 738923 not received</td>\n",
       "    </tr>\n",
       "    <tr>\n",
       "      <th>3</th>\n",
       "      <td>Pauly</td>\n",
       "      <td>536678898</td>\n",
       "      <td>paul111@gmail.com</td>\n",
       "      <td>Order not received with number 249743</td>\n",
       "    </tr>\n",
       "  </tbody>\n",
       "</table>\n",
       "</div>"
      ],
      "text/plain": [
       "    name   phone_no                     email  \\\n",
       "0    Tom  123456789             tom@gmail.com   \n",
       "1  David  123456789        david2_4@gmail.com   \n",
       "2  Novak  123456789  21345.dypit@dypvp.edu.in   \n",
       "3  Pauly  536678898         paul111@gmail.com   \n",
       "\n",
       "                                      complaint  \n",
       "0            I have issue with my order #417890  \n",
       "1  I have a problem with my order number 578390  \n",
       "2                  My order 738923 not received  \n",
       "3         Order not received with number 249743  "
      ]
     },
     "execution_count": 50,
     "metadata": {},
     "output_type": "execute_result"
    }
   ],
   "source": [
    "df1.head()"
   ]
  },
  {
   "cell_type": "markdown",
   "id": "e88c3b0d",
   "metadata": {},
   "source": [
    "### 2.2 Extracting Order No's from the complaint column"
   ]
  },
  {
   "cell_type": "code",
   "execution_count": 51,
   "id": "6572ba03",
   "metadata": {},
   "outputs": [],
   "source": [
    "def extract_orderno(text):\n",
    "    return re.findall(r'(?:order|Order)[^\\d]*(\\d*)', text)"
   ]
  },
  {
   "cell_type": "code",
   "execution_count": 52,
   "id": "ddbc9c4f",
   "metadata": {},
   "outputs": [],
   "source": [
    "df1['order_no'] = df1['complaint'].apply(extract_orderno)"
   ]
  },
  {
   "cell_type": "code",
   "execution_count": 53,
   "id": "03ff6fe6",
   "metadata": {},
   "outputs": [
    {
     "data": {
      "text/html": [
       "<div>\n",
       "<style scoped>\n",
       "    .dataframe tbody tr th:only-of-type {\n",
       "        vertical-align: middle;\n",
       "    }\n",
       "\n",
       "    .dataframe tbody tr th {\n",
       "        vertical-align: top;\n",
       "    }\n",
       "\n",
       "    .dataframe thead th {\n",
       "        text-align: right;\n",
       "    }\n",
       "</style>\n",
       "<table border=\"1\" class=\"dataframe\">\n",
       "  <thead>\n",
       "    <tr style=\"text-align: right;\">\n",
       "      <th></th>\n",
       "      <th>name</th>\n",
       "      <th>phone_no</th>\n",
       "      <th>email</th>\n",
       "      <th>complaint</th>\n",
       "      <th>order_no</th>\n",
       "    </tr>\n",
       "  </thead>\n",
       "  <tbody>\n",
       "    <tr>\n",
       "      <th>0</th>\n",
       "      <td>Tom</td>\n",
       "      <td>123456789</td>\n",
       "      <td>tom@gmail.com</td>\n",
       "      <td>I have issue with my order #417890</td>\n",
       "      <td>[417890]</td>\n",
       "    </tr>\n",
       "    <tr>\n",
       "      <th>1</th>\n",
       "      <td>David</td>\n",
       "      <td>123456789</td>\n",
       "      <td>david2_4@gmail.com</td>\n",
       "      <td>I have a problem with my order number 578390</td>\n",
       "      <td>[578390]</td>\n",
       "    </tr>\n",
       "    <tr>\n",
       "      <th>2</th>\n",
       "      <td>Novak</td>\n",
       "      <td>123456789</td>\n",
       "      <td>21345.dypit@dypvp.edu.in</td>\n",
       "      <td>My order 738923 not received</td>\n",
       "      <td>[738923]</td>\n",
       "    </tr>\n",
       "    <tr>\n",
       "      <th>3</th>\n",
       "      <td>Pauly</td>\n",
       "      <td>536678898</td>\n",
       "      <td>paul111@gmail.com</td>\n",
       "      <td>Order not received with number 249743</td>\n",
       "      <td>[249743]</td>\n",
       "    </tr>\n",
       "  </tbody>\n",
       "</table>\n",
       "</div>"
      ],
      "text/plain": [
       "    name   phone_no                     email  \\\n",
       "0    Tom  123456789             tom@gmail.com   \n",
       "1  David  123456789        david2_4@gmail.com   \n",
       "2  Novak  123456789  21345.dypit@dypvp.edu.in   \n",
       "3  Pauly  536678898         paul111@gmail.com   \n",
       "\n",
       "                                      complaint  order_no  \n",
       "0            I have issue with my order #417890  [417890]  \n",
       "1  I have a problem with my order number 578390  [578390]  \n",
       "2                  My order 738923 not received  [738923]  \n",
       "3         Order not received with number 249743  [249743]  "
      ]
     },
     "execution_count": 53,
     "metadata": {},
     "output_type": "execute_result"
    }
   ],
   "source": [
    "df1.head()"
   ]
  },
  {
   "cell_type": "markdown",
   "id": "90f2ce40",
   "metadata": {},
   "source": [
    "# 3. DELETING UNWANTED COLUMNS"
   ]
  },
  {
   "cell_type": "code",
   "execution_count": 54,
   "id": "75b4be13",
   "metadata": {},
   "outputs": [],
   "source": [
    "df = pd.read_csv('/Users/risharane/Downloads/employee_1.csv')"
   ]
  },
  {
   "cell_type": "code",
   "execution_count": 55,
   "id": "09ec3de1",
   "metadata": {},
   "outputs": [
    {
     "data": {
      "text/html": [
       "<div>\n",
       "<style scoped>\n",
       "    .dataframe tbody tr th:only-of-type {\n",
       "        vertical-align: middle;\n",
       "    }\n",
       "\n",
       "    .dataframe tbody tr th {\n",
       "        vertical-align: top;\n",
       "    }\n",
       "\n",
       "    .dataframe thead th {\n",
       "        text-align: right;\n",
       "    }\n",
       "</style>\n",
       "<table border=\"1\" class=\"dataframe\">\n",
       "  <thead>\n",
       "    <tr style=\"text-align: right;\">\n",
       "      <th></th>\n",
       "      <th>NAME</th>\n",
       "      <th>AGE</th>\n",
       "    </tr>\n",
       "  </thead>\n",
       "  <tbody>\n",
       "    <tr>\n",
       "      <th>0</th>\n",
       "      <td>Tom</td>\n",
       "      <td>21.0</td>\n",
       "    </tr>\n",
       "    <tr>\n",
       "      <th>1</th>\n",
       "      <td>Alice</td>\n",
       "      <td>27.0</td>\n",
       "    </tr>\n",
       "    <tr>\n",
       "      <th>2</th>\n",
       "      <td>Joseph</td>\n",
       "      <td>24.0</td>\n",
       "    </tr>\n",
       "    <tr>\n",
       "      <th>3</th>\n",
       "      <td>NaN</td>\n",
       "      <td>29.0</td>\n",
       "    </tr>\n",
       "    <tr>\n",
       "      <th>4</th>\n",
       "      <td>David</td>\n",
       "      <td>NaN</td>\n",
       "    </tr>\n",
       "  </tbody>\n",
       "</table>\n",
       "</div>"
      ],
      "text/plain": [
       "     NAME   AGE\n",
       "0     Tom  21.0\n",
       "1   Alice  27.0\n",
       "2  Joseph  24.0\n",
       "3     NaN  29.0\n",
       "4   David   NaN"
      ]
     },
     "execution_count": 55,
     "metadata": {},
     "output_type": "execute_result"
    }
   ],
   "source": [
    "df.head()"
   ]
  },
  {
   "cell_type": "markdown",
   "id": "fb09526f",
   "metadata": {},
   "source": [
    "DELETING NAME COLUMN"
   ]
  },
  {
   "cell_type": "code",
   "execution_count": 56,
   "id": "e73bae10",
   "metadata": {},
   "outputs": [],
   "source": [
    "df.drop(columns = ['NAME'], inplace = True)"
   ]
  },
  {
   "cell_type": "code",
   "execution_count": 57,
   "id": "b289de9b",
   "metadata": {},
   "outputs": [
    {
     "data": {
      "text/html": [
       "<div>\n",
       "<style scoped>\n",
       "    .dataframe tbody tr th:only-of-type {\n",
       "        vertical-align: middle;\n",
       "    }\n",
       "\n",
       "    .dataframe tbody tr th {\n",
       "        vertical-align: top;\n",
       "    }\n",
       "\n",
       "    .dataframe thead th {\n",
       "        text-align: right;\n",
       "    }\n",
       "</style>\n",
       "<table border=\"1\" class=\"dataframe\">\n",
       "  <thead>\n",
       "    <tr style=\"text-align: right;\">\n",
       "      <th></th>\n",
       "      <th>AGE</th>\n",
       "    </tr>\n",
       "  </thead>\n",
       "  <tbody>\n",
       "    <tr>\n",
       "      <th>0</th>\n",
       "      <td>21.0</td>\n",
       "    </tr>\n",
       "    <tr>\n",
       "      <th>1</th>\n",
       "      <td>27.0</td>\n",
       "    </tr>\n",
       "    <tr>\n",
       "      <th>2</th>\n",
       "      <td>24.0</td>\n",
       "    </tr>\n",
       "    <tr>\n",
       "      <th>3</th>\n",
       "      <td>29.0</td>\n",
       "    </tr>\n",
       "    <tr>\n",
       "      <th>4</th>\n",
       "      <td>NaN</td>\n",
       "    </tr>\n",
       "  </tbody>\n",
       "</table>\n",
       "</div>"
      ],
      "text/plain": [
       "    AGE\n",
       "0  21.0\n",
       "1  27.0\n",
       "2  24.0\n",
       "3  29.0\n",
       "4   NaN"
      ]
     },
     "execution_count": 57,
     "metadata": {},
     "output_type": "execute_result"
    }
   ],
   "source": [
    "df.head()"
   ]
  },
  {
   "cell_type": "code",
   "execution_count": null,
   "id": "caedfc11",
   "metadata": {},
   "outputs": [],
   "source": []
  }
 ],
 "metadata": {
  "kernelspec": {
   "display_name": "Python 3 (ipykernel)",
   "language": "python",
   "name": "python3"
  },
  "language_info": {
   "codemirror_mode": {
    "name": "ipython",
    "version": 3
   },
   "file_extension": ".py",
   "mimetype": "text/x-python",
   "name": "python",
   "nbconvert_exporter": "python",
   "pygments_lexer": "ipython3",
   "version": "3.10.9"
  }
 },
 "nbformat": 4,
 "nbformat_minor": 5
}
